{
  "nbformat": 4,
  "nbformat_minor": 0,
  "metadata": {
    "colab": {
      "provenance": [],
      "authorship_tag": "ABX9TyOrIcFdYSX/fwDMFABOc0Yy",
      "include_colab_link": true
    },
    "kernelspec": {
      "name": "python3",
      "display_name": "Python 3"
    },
    "language_info": {
      "name": "python"
    }
  },
  "cells": [
    {
      "cell_type": "markdown",
      "metadata": {
        "id": "view-in-github",
        "colab_type": "text"
      },
      "source": [
        "<a href=\"https://colab.research.google.com/github/steniocg/steniocg/blob/main/Polymorphism.ipynb\" target=\"_parent\"><img src=\"https://colab.research.google.com/assets/colab-badge.svg\" alt=\"Open In Colab\"/></a>"
      ]
    },
    {
      "cell_type": "code",
      "execution_count": 5,
      "metadata": {
        "colab": {
          "base_uri": "https://localhost:8080/"
        },
        "id": "kGWttUhAkC4n",
        "outputId": "34390c7a-8c5e-4368-b73b-c9302eeae36e"
      },
      "outputs": [
        {
          "output_type": "stream",
          "name": "stdout",
          "text": [
            "Meu nome é José\n",
            "Meu nome é Maria\n",
            "Meu nome é Bruna\n"
          ]
        }
      ],
      "source": [
        "# class Personagens():\n",
        "#   def falar(self):\n",
        "#     print('Eu sou um personagem!')\n",
        "\n",
        "# class Guerreiro(Personagens):\n",
        "#   def falar(self):\n",
        "#     print('Eu sou um guerreiro forte e destemido!')\n",
        "\n",
        "# class Mago(Personagens):\n",
        "#   def falar(self):\n",
        "#     print('Eu sou um mago sabio e poderoso!')\n",
        "\n",
        "# class Arqueiro(Personagens):\n",
        "#   def falar(self):\n",
        "#     print('Eu sou um arqueiro rapido e destemido!')\n",
        "\n",
        "\n",
        "# # Criar os objetos:\n",
        "# personagens = [Guerreiro(), Mago(), Arqueiro()]\n",
        "\n",
        "# for p in personagens:\n",
        "#   p.falar()\n",
        "\n",
        "class Pessoa1():\n",
        "  def falar(self):\n",
        "    print('Meu nome é José')\n",
        "\n",
        "class Pessoa2():\n",
        "  def falar(self):\n",
        "    print('Meu nome é Maria')\n",
        "\n",
        "class Pessoa3():\n",
        "  def falar(self):\n",
        "    print('Meu nome é Bruna')\n",
        "\n",
        "sala = [Pessoa1(), Pessoa2(), Pessoa3()]\n",
        "for pessoa in sala:\n",
        "  pessoa.falar()"
      ]
    }
  ]
}