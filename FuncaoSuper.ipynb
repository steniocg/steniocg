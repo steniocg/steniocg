{
  "nbformat": 4,
  "nbformat_minor": 0,
  "metadata": {
    "colab": {
      "provenance": [],
      "authorship_tag": "ABX9TyNamQO7+FihMv26gskp8AKn",
      "include_colab_link": true
    },
    "kernelspec": {
      "name": "python3",
      "display_name": "Python 3"
    },
    "language_info": {
      "name": "python"
    }
  },
  "cells": [
    {
      "cell_type": "markdown",
      "metadata": {
        "id": "view-in-github",
        "colab_type": "text"
      },
      "source": [
        "<a href=\"https://colab.research.google.com/github/steniocg/steniocg/blob/main/FuncaoSuper.ipynb\" target=\"_parent\"><img src=\"https://colab.research.google.com/assets/colab-badge.svg\" alt=\"Open In Colab\"/></a>"
      ]
    },
    {
      "cell_type": "code",
      "execution_count": 7,
      "metadata": {
        "colab": {
          "base_uri": "https://localhost:8080/"
        },
        "id": "jHABkwoq0fuy",
        "outputId": "55db422c-79b1-4227-8be0-fe2e7ea735a9"
      },
      "outputs": [
        {
          "output_type": "stream",
          "name": "stdout",
          "text": [
            "Olá meu nome é Júlia\n",
            "Eu sou um Assistente da escola\n",
            "Status: Inativo\n"
          ]
        }
      ],
      "source": [
        "class Escola():\n",
        "  def __init__(self, nome, idade, status):\n",
        "    self.nome = nome\n",
        "    self.idade = idade\n",
        "    self.status = status\n",
        "\n",
        "  def apresentar(self):\n",
        "    print(f'Olá meu nome é {self.nome}')\n",
        "\n",
        "  def verificar_status(self):\n",
        "    print(f'Status: {'Ativo' if self.status else 'Inativo'}')\n",
        "    # if self.status:\n",
        "    #   print('Estou ativo na escola')\n",
        "    # else:\n",
        "    #   print('Não estou mais ativo na escola')\n",
        "\n",
        "class Aluno(Escola):\n",
        "  def __init__(self, nome, idade, status, ano):\n",
        "    super().__init__(nome, idade, status)\n",
        "    self.ano = ano\n",
        "\n",
        "  def apresentar(self):\n",
        "    super().apresentar()\n",
        "    print('Eu sou um aluno da escola')\n",
        "\n",
        "class Professor(Escola):\n",
        "  def __init__(self, nome, idade, status, materia):\n",
        "    super().__init__(nome, idade, status)\n",
        "    self.materia = materia\n",
        "\n",
        "  def apresentar(self):\n",
        "    super().apresentar()\n",
        "    print('Eu sou um Professor da escola')\n",
        "\n",
        "class Assistente(Escola):\n",
        "  def __init__(self, nome, idade, status, bloco):\n",
        "    super().__init__(nome, idade, status)\n",
        "    self.bloco = bloco\n",
        "\n",
        "  def apresentar(self):\n",
        "    super().apresentar()\n",
        "    print('Eu sou um Assistente da escola')\n",
        "\n",
        "a1 = Aluno(nome='Antonio', idade=15, status=True, ano=9)\n",
        "p1 = Professor(nome='Samuel', idade=45, status=True, materia='Religião')\n",
        "as1 = Assistente(nome='Júlia', idade=25, status=False, bloco='Bloco A')\n",
        "\n",
        "as1.apresentar()\n",
        "as1.verificar_status()"
      ]
    }
  ]
}